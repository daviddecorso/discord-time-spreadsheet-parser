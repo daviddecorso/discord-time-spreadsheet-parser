{
 "cells": [
  {
   "cell_type": "code",
   "execution_count": 116,
   "metadata": {},
   "outputs": [],
   "source": [
    "import pandas as pd\n",
    "df = pd.read_csv('data.csv')\n",
    "CURRENT_YEAR = '2023'"
   ]
  },
  {
   "cell_type": "code",
   "execution_count": 117,
   "metadata": {},
   "outputs": [],
   "source": [
    "# Limit rows to the first 25\n",
    "time_list = df.loc[:24, CURRENT_YEAR:]"
   ]
  },
  {
   "cell_type": "code",
   "execution_count": 118,
   "metadata": {},
   "outputs": [],
   "source": [
    "# for each column, make a key value pair of the name of each row and the value of the next column in that row, then sum the values of each key\n",
    "summed_values = {}\n",
    "for column in time_list:\n",
    "    # if column index is even\n",
    "    if time_list.columns.get_loc(column) % 2 == 0:\n",
    "        # for each row in the column\n",
    "        # if the row is not in the dictionary, add it\n",
    "        for index, value in time_list[column].items():\n",
    "            next_column_value = time_list.iloc[index, time_list.columns.get_loc(column) + 1]\n",
    "            if value not in summed_values:\n",
    "                summed_values[value] = float(next_column_value)\n",
    "            else:\n",
    "                summed_values[value] += float(next_column_value)\n"
   ]
  },
  {
   "cell_type": "code",
   "execution_count": 119,
   "metadata": {},
   "outputs": [
    {
     "name": "stdout",
     "output_type": "stream",
     "text": [
      "{'jglove': 4, 'echo': 1, 'fupas': 2, 'm_espo': 1, 'dextroam': 2, 'dope rider': 1, 'slaabo': 1}\n"
     ]
    }
   ],
   "source": [
    "first_place_list = df.loc[0:0, CURRENT_YEAR:]\n",
    "first_place_users_count = {}\n",
    "for column in first_place_list:\n",
    "    # if column index is even\n",
    "    if time_list.columns.get_loc(column) % 2 == 0:\n",
    "        # for each row in the column\n",
    "        # if the row is not in the dictionary, add it\n",
    "        for index, value in first_place_list[column].items():\n",
    "            if value not in first_place_users_count:\n",
    "                first_place_users_count[value] = 1\n",
    "            else:\n",
    "                first_place_users_count[value] += 1\n",
    "print(first_place_users_count)"
   ]
  },
  {
   "cell_type": "code",
   "execution_count": 120,
   "metadata": {},
   "outputs": [
    {
     "name": "stdout",
     "output_type": "stream",
     "text": [
      "{'jglove': 10, 'echo': 5, 'dope rider': 7, 'mdlukens': 4, 'dooom': 1, 'chillax': 3, 'fupas': 7, 'teslo': 1, 'm_espo': 3, 'evolvedecho (echo)': 1, 'dextroam (dextro AM)': 1, 'doperider': 5, 'dextroam': 4, 'evolvedecho': 4, 'f1ourish': 2, 'davey_d': 1, 'slaabo': 1}\n"
     ]
    }
   ],
   "source": [
    "top_five_list = df.loc[0:4, CURRENT_YEAR:]\n",
    "top_five_users_count = {}\n",
    "for column in top_five_list:\n",
    "    # if column index is even\n",
    "    if time_list.columns.get_loc(column) % 2 == 0:\n",
    "        # for each row in the column\n",
    "        # if the row is not in the dictionary, add it\n",
    "        for index, value in top_five_list[column].items():\n",
    "            if value not in top_five_users_count:\n",
    "                top_five_users_count[value] = 1\n",
    "            else:\n",
    "                top_five_users_count[value] += 1\n",
    "\n",
    "print(top_five_users_count)"
   ]
  },
  {
   "cell_type": "code",
   "execution_count": 121,
   "metadata": {},
   "outputs": [],
   "source": [
    "# export to csv\n",
    "df = pd.DataFrame.from_dict(summed_values, orient='index')\n",
    "df.to_csv('output.csv', header=False)"
   ]
  }
 ],
 "metadata": {
  "kernelspec": {
   "display_name": "Python 3",
   "language": "python",
   "name": "python3"
  },
  "language_info": {
   "codemirror_mode": {
    "name": "ipython",
    "version": 3
   },
   "file_extension": ".py",
   "mimetype": "text/x-python",
   "name": "python",
   "nbconvert_exporter": "python",
   "pygments_lexer": "ipython3",
   "version": "3.10.5"
  }
 },
 "nbformat": 4,
 "nbformat_minor": 2
}
