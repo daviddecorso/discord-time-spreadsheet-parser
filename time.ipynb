{
 "cells": [
  {
   "cell_type": "code",
   "execution_count": 160,
   "metadata": {},
   "outputs": [],
   "source": [
    "import pandas as pd\n",
    "df = pd.read_csv('data.csv')"
   ]
  },
  {
   "cell_type": "code",
   "execution_count": 161,
   "metadata": {},
   "outputs": [],
   "source": [
    "# Get all columns to the right of the column named '2023'\n",
    "time_list = df.loc[:, '2023':]"
   ]
  },
  {
   "cell_type": "code",
   "execution_count": 162,
   "metadata": {},
   "outputs": [],
   "source": [
    "# Limit rows to the first 25\n",
    "time_list = df.loc[:24, '2023':]"
   ]
  },
  {
   "cell_type": "code",
   "execution_count": 163,
   "metadata": {},
   "outputs": [
    {
     "name": "stdout",
     "output_type": "stream",
     "text": [
      "{'jglove': 2125.29, 'echo': 989.8, 'dope rider': 1224.93, 'mdlukens': 1193.72, 'dooom': 239.91, 'evolved undead': 1117.1000000000001, 'naweedy': 1050.1599999999999, 'chillax': 553.74, 'davidfire1332': 487.53999999999996, 'breese': 262.67, 'herpulez': 146.18, 'neur0': 194.81, 'efen': 252.82, 'master': 445.7, 'fupas': 1724.8299999999997, 'teslo': 257.08000000000004, 'messy2222': 685.71, 'jippy': 268.47, 'zxq': 72.62, 'bry dogg': 50.230000000000004, '2dollahoe': 187.68, 'natev the II': 17.52, 'veggienugget': 171.67, 'matthaniel': 28.08, nan: nan, 'slabo': 152.42000000000002, 'bry  dogg': 33.58, 'proc (dextro AM)': 23.48, 'jtmcbird': 20.72, 'flourish': 71.22999999999999, 'proc (dextro am)': 55.4, 'esziti': 139.5, 'neur0 (1tom)': 28.450000000000003, 'h-dogg': 7.25, 'jaydwg': 4.35, 'dextro AM': 62.93, 'fohrtune': 17.95, 'robopirate': 14.63, 'm_espo': 756.1899999999999, 'evolvedecho (echo)': 130.88, 'dextroam (dextro AM)': 127.27, 'doperider': 817.29, 'chilllaxx (chillax)': 111.83, 'nickogon (master)': 96.63, 'jayprad': 212.03999999999996, 'veggienugget (.veggienug)': 65.68, 'f1ourish (flourish)': 273.59000000000003, 'efeniel (efen)': 49.17, 'slaabo (slabo)': 47.88, 'davey_d (davidfire1332)': 42.0, 'teslovian (teslo)': 41.95, 'hdogg': 38.55, 'evidentowl': 25.02, 'neuro (tomdeighan)': 16.03, 'goodboy': 6.5, 'dextroam': 880.5800000000002, 'evolvedecho': 816.7099999999999, 'chilllaxx': 660.4200000000001, 'teslovian': 389.73, 'nickogon': 549.74, 'efeniel': 173.79000000000002, 'xhezii': 78.66, 'davey_d': 533.1500000000001, 'slaabo': 479.16999999999996, 'brydogg': 119.19, 'pokodoodle': 16.4, '.breese': 139.98000000000002, '.veggienug': 32.879999999999995, 'tomdeighan (neur0)': 10.62, 'tomdeighan': 328.31, 'jakemcbride': 37.7, '1dooom': 59.129999999999995, 'f1ourish': 554.22, 'mikee1330': 7.6, 'veggienug': 19.62}\n"
     ]
    }
   ],
   "source": [
    "# for each column, make a key value pair of the name of each row and the value of the next column in that row, then sum the values of each key\n",
    "summed_values = {}\n",
    "for column in time_list:\n",
    "    # if column index is even\n",
    "    if time_list.columns.get_loc(column) % 2 == 0:\n",
    "        # for each row in the column\n",
    "        # if the row is not in the dictionary, add it\n",
    "        for index, value in time_list[column].items():\n",
    "            next_column_value = time_list.iloc[index, time_list.columns.get_loc(column) + 1]\n",
    "            if value not in summed_values:\n",
    "                summed_values[value] = float(next_column_value)\n",
    "            else:\n",
    "                summed_values[value] += float(next_column_value)\n"
   ]
  },
  {
   "cell_type": "code",
   "execution_count": 164,
   "metadata": {},
   "outputs": [],
   "source": [
    "# export to csv\n",
    "df = pd.DataFrame.from_dict(summed_values, orient='index')\n",
    "df.to_csv('output.csv', header=False)"
   ]
  }
 ],
 "metadata": {
  "kernelspec": {
   "display_name": "Python 3",
   "language": "python",
   "name": "python3"
  },
  "language_info": {
   "codemirror_mode": {
    "name": "ipython",
    "version": 3
   },
   "file_extension": ".py",
   "mimetype": "text/x-python",
   "name": "python",
   "nbconvert_exporter": "python",
   "pygments_lexer": "ipython3",
   "version": "3.10.5"
  }
 },
 "nbformat": 4,
 "nbformat_minor": 2
}
