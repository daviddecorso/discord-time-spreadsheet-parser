{
 "cells": [
  {
   "cell_type": "code",
   "execution_count": 165,
   "metadata": {},
   "outputs": [],
   "source": [
    "import pandas as pd\n",
    "df = pd.read_csv('data.csv')"
   ]
  },
  {
   "cell_type": "code",
   "execution_count": 166,
   "metadata": {},
   "outputs": [],
   "source": [
    "# Get all columns to the right of the column named '2023'\n",
    "time_list = df.loc[:, '2023':]"
   ]
  },
  {
   "cell_type": "code",
   "execution_count": 167,
   "metadata": {},
   "outputs": [],
   "source": [
    "# Limit rows to the first 25\n",
    "time_list = df.loc[:24, '2023':]"
   ]
  },
  {
   "cell_type": "code",
   "execution_count": 168,
   "metadata": {},
   "outputs": [],
   "source": [
    "# for each column, make a key value pair of the name of each row and the value of the next column in that row, then sum the values of each key\n",
    "summed_values = {}\n",
    "for column in time_list:\n",
    "    # if column index is even\n",
    "    if time_list.columns.get_loc(column) % 2 == 0:\n",
    "        # for each row in the column\n",
    "        # if the row is not in the dictionary, add it\n",
    "        for index, value in time_list[column].items():\n",
    "            next_column_value = time_list.iloc[index, time_list.columns.get_loc(column) + 1]\n",
    "            if value not in summed_values:\n",
    "                summed_values[value] = float(next_column_value)\n",
    "            else:\n",
    "                summed_values[value] += float(next_column_value)\n"
   ]
  },
  {
   "cell_type": "code",
   "execution_count": 169,
   "metadata": {},
   "outputs": [],
   "source": [
    "# export to csv\n",
    "df = pd.DataFrame.from_dict(summed_values, orient='index')\n",
    "df.to_csv('output.csv', header=False)"
   ]
  }
 ],
 "metadata": {
  "kernelspec": {
   "display_name": "Python 3",
   "language": "python",
   "name": "python3"
  },
  "language_info": {
   "codemirror_mode": {
    "name": "ipython",
    "version": 3
   },
   "file_extension": ".py",
   "mimetype": "text/x-python",
   "name": "python",
   "nbconvert_exporter": "python",
   "pygments_lexer": "ipython3",
   "version": "3.10.5"
  }
 },
 "nbformat": 4,
 "nbformat_minor": 2
}
